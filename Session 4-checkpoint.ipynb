{
 "cells": [
  {
   "cell_type": "code",
   "execution_count": 21,
   "id": "d9289693",
   "metadata": {
    "scrolled": true
   },
   "outputs": [
    {
     "name": "stdout",
     "output_type": "stream",
     "text": [
      "Name is Samer, age is 56, and number of courses are 16.\n"
     ]
    }
   ],
   "source": [
    "class Students():\n",
    "    counter = 0\n",
    "    def __init__(self, name, age, n_courses):\n",
    "        self.name = name\n",
    "        self.age = age\n",
    "        self.n_courses = n_courses \n",
    "        Students.counter +=1\n",
    "    def display(self):\n",
    "        print(f\"Name is {self.name}, age is {self.age}, and number of courses are {self.n_courses}.\")\n",
    "stud1 = Students(\"Samer\", 56, 16)\n",
    "\n",
    "stud1.display()"
   ]
  },
  {
   "cell_type": "code",
   "execution_count": null,
   "id": "c375712b",
   "metadata": {},
   "outputs": [],
   "source": [
    "class new_stud(Students):\n",
    "    super().__init__()\n",
    "    \n",
    "    @classmethod\n",
    "    def number_of_students(cls):\n",
    "        prnit()\n",
    "        \n",
    "    @staticmethod\n",
    "    def list_of_courses(courses):\n",
    "        print(\"Course1\", \"Course2\", \"Course3\", \"Course4\")\n"
   ]
  },
  {
   "cell_type": "code",
   "execution_count": null,
   "id": "c2e42dd9",
   "metadata": {},
   "outputs": [],
   "source": []
  },
  {
   "cell_type": "code",
   "execution_count": null,
   "id": "a68b252a",
   "metadata": {},
   "outputs": [],
   "source": []
  },
  {
   "cell_type": "code",
   "execution_count": null,
   "id": "0d20a047",
   "metadata": {},
   "outputs": [],
   "source": []
  },
  {
   "cell_type": "code",
   "execution_count": null,
   "id": "715858bc",
   "metadata": {},
   "outputs": [],
   "source": []
  },
  {
   "cell_type": "code",
   "execution_count": null,
   "id": "cf52cb84",
   "metadata": {},
   "outputs": [],
   "source": []
  },
  {
   "cell_type": "code",
   "execution_count": 15,
   "id": "6fd9d5ee",
   "metadata": {},
   "outputs": [],
   "source": [
    "class Dog():\n",
    "    count = 0\n",
    "    def __init__(self, name, age):\n",
    "        self.name = name\n",
    "        self.age = age\n",
    "        Dog.count+=1\n",
    "    def display(self):\n",
    "        print(f\"Dog name {self.name}, Dog age {self.age}, and number of dogs are {Dog.count}\")"
   ]
  },
  {
   "cell_type": "code",
   "execution_count": 22,
   "id": "c745f491",
   "metadata": {},
   "outputs": [
    {
     "name": "stdout",
     "output_type": "stream",
     "text": [
      "Dog name R, Dog age 5, and number of dogs are 2\n",
      "Dog name S, Dog age 7, and number of dogs are 3\n",
      "Dog name Q, Dog age 3, and number of dogs are 4\n"
     ]
    }
   ],
   "source": [
    "dog1 = Dog(\"R\", 5)\n",
    "dog1.display()\n",
    "dog2 = Dog(\"S\", 7)\n",
    "dog2.display()\n",
    "dog3 = Dog(\"Q\", 3)\n",
    "dog3.display()"
   ]
  },
  {
   "cell_type": "code",
   "execution_count": null,
   "id": "c20831bb",
   "metadata": {},
   "outputs": [],
   "source": []
  }
 ],
 "metadata": {
  "kernelspec": {
   "display_name": "Python 3 (ipykernel)",
   "language": "python",
   "name": "python3"
  },
  "language_info": {
   "codemirror_mode": {
    "name": "ipython",
    "version": 3
   },
   "file_extension": ".py",
   "mimetype": "text/x-python",
   "name": "python",
   "nbconvert_exporter": "python",
   "pygments_lexer": "ipython3",
   "version": "3.9.13"
  }
 },
 "nbformat": 4,
 "nbformat_minor": 5
}
