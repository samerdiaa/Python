{
 "cells": [
  {
   "cell_type": "code",
   "execution_count": 2,
   "id": "b36499b4",
   "metadata": {},
   "outputs": [
    {
     "name": "stdout",
     "output_type": "stream",
     "text": [
      "Would you like to do a calculation? \"Y\" or \"N\": y\n",
      "Enter a command:\t\"add\", \"sub\", \"mult\" or \"div\": add\n",
      "Enter the First number:\t12\n",
      "Enter the Second nmber:\t14\n",
      "FIrst number is \t12\n",
      "Second numer is \t14\n",
      "Command is \t\t\"add\"\n",
      "Result is \t\t26\n",
      "Would you like to do a calculation? \"Y\" or \"N\": n\n"
     ]
    }
   ],
   "source": [
    "def add(num1, num2):\n",
    "    return num1 + num2\n",
    "def sub(num1, num2):\n",
    "    return num1 - num2\n",
    "def mult(num1, num2):\n",
    "    return num1 * num2\n",
    "def div(num1, num2):\n",
    "    return num1 / num2\n",
    "\n",
    "choice = input(\"Would you like to do a calculation? \\\"Y\\\" or \\\"N\\\": \").lower()\n",
    "while choice == \"y\":\n",
    "    command = input(\"Enter a command:\\t\\\"add\\\", \\\"sub\\\", \\\"mult\\\" or \\\"div\\\": \").lower()\n",
    "    input1 = int(input(\"Enter the First number:\\t\"))\n",
    "    input2 = int(input(\"Enter the Second nmber:\\t\"))\n",
    "\n",
    "\n",
    "    if command == \"add\":\n",
    "        result = add(input1, input2)\n",
    "        \n",
    "    elif command == \"sub\":\n",
    "        result = sub(input1, input2)\n",
    "\n",
    "    elif command == \"mult\":\n",
    "        result = mult(input1, input2)\n",
    "\n",
    "        \n",
    "    elif command == \"div\":\n",
    "        result = div(input1, input2)\n",
    "\n",
    "\n",
    "    print(f\"FIrst number is \\t{input1}\\nSecond numer is \\t{input2}\\nCommand is \\t\\t\\\"{command}\\\"\\nResult is \\t\\t{result}\")\n",
    "    choice = input(\"Would you like to do a calculation? \\\"Y\\\" or \\\"N\\\": \").lower()"
   ]
  },
  {
   "cell_type": "code",
   "execution_count": null,
   "id": "bc5cc3f2",
   "metadata": {},
   "outputs": [],
   "source": []
  }
 ],
 "metadata": {
  "kernelspec": {
   "display_name": "Python 3 (ipykernel)",
   "language": "python",
   "name": "python3"
  },
  "language_info": {
   "codemirror_mode": {
    "name": "ipython",
    "version": 3
   },
   "file_extension": ".py",
   "mimetype": "text/x-python",
   "name": "python",
   "nbconvert_exporter": "python",
   "pygments_lexer": "ipython3",
   "version": "3.9.13"
  }
 },
 "nbformat": 4,
 "nbformat_minor": 5
}
